{
 "cells": [
  {
   "cell_type": "markdown",
   "id": "7155a8ae-767b-4b78-af6e-123075a3ab3d",
   "metadata": {},
   "source": [
    "#Clustering Using K-Means and DBSCANS Algorithms "
   ]
  },
  {
   "cell_type": "code",
   "execution_count": null,
   "id": "004a6993-3499-4262-a1bf-fb0a86ba7d02",
   "metadata": {},
   "outputs": [],
   "source": [
    "#libaries\n",
    "import keras\n",
    "import numpy\n",
    "import matplotlib \n",
    "import dbscan "
   ]
  },
  {
   "cell_type": "code",
   "execution_count": null,
   "id": "2b2069b7-823b-4df3-bcbd-07ea7928ba5c",
   "metadata": {},
   "outputs": [],
   "source": [
    "#Step 1: Vectorization and Normalization\n"
   ]
  }
 ],
 "metadata": {
  "kernelspec": {
   "display_name": "Python 3 (ipykernel)",
   "language": "python",
   "name": "python3"
  },
  "language_info": {
   "codemirror_mode": {
    "name": "ipython",
    "version": 3
   },
   "file_extension": ".py",
   "mimetype": "text/x-python",
   "name": "python",
   "nbconvert_exporter": "python",
   "pygments_lexer": "ipython3",
   "version": "3.12.2"
  }
 },
 "nbformat": 4,
 "nbformat_minor": 5
}
